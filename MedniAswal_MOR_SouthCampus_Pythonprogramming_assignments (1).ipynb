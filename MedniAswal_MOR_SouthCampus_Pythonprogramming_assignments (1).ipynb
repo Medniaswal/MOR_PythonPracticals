{
 "cells": [
  {
   "cell_type": "markdown",
   "metadata": {},
   "source": [
    "# Master of Operational Research-Python Programming Practicals"
   ]
  },
  {
   "cell_type": "markdown",
   "metadata": {},
   "source": [
    "## NAME: MEDNI ASWAL"
   ]
  },
  {
   "cell_type": "markdown",
   "metadata": {},
   "source": [
    "#### Q1. Write a program to enter name and display as “Hello, Name”."
   ]
  },
  {
   "cell_type": "code",
   "execution_count": 3,
   "metadata": {
    "scrolled": true
   },
   "outputs": [
    {
     "name": "stdout",
     "output_type": "stream",
     "text": [
      "What's your name ? \n",
      "Medni\n",
      "Hello, Medni\n"
     ]
    }
   ],
   "source": [
    "name=input(\"What's your name ? \\n\")\n",
    "print(\"Hello,\", name)"
   ]
  },
  {
   "cell_type": "markdown",
   "metadata": {},
   "source": [
    "#### Q2. Write a menu driven program to enter two numbers and print the arithmetic operations like a) +  b)  –  c) *  d) /  e) //  f) %."
   ]
  },
  {
   "cell_type": "code",
   "execution_count": 13,
   "metadata": {},
   "outputs": [
    {
     "name": "stdout",
     "output_type": "stream",
     "text": [
      "Enter first number :\t3\n",
      "Enter second number :\t4\n",
      " 1- Addition \n",
      " 2- Substraction \n",
      " 3- Multiplication \n",
      " 4- Division \n",
      " 5- Floor division \n",
      " 6- Modulus\n",
      "Enter the operation you want to perform :\t3\n",
      "You chose Multiplication - 12\n"
     ]
    }
   ],
   "source": [
    "def arithmetic_operations():\n",
    "    a=int(input(\"Enter first number :\\t\"))\n",
    "    b=int(input(\"Enter second number :\\t\"))\n",
    "    print(\" 1- Addition \\n 2- Substraction \\n 3- Multiplication \\n 4- Division \\n 5- Floor division \\n 6- Modulus\")\n",
    "    operation=int(input(\"Enter the operation you want to perform :\\t\"))\n",
    "    if operation ==1:\n",
    "        print(\"You chose Addition -\", a+b)\n",
    "    elif operation==2:\n",
    "        print(\"You chose Substraction -\", a-b)\n",
    "    elif operation==3:\n",
    "        print(\"You chose Multiplication -\",a*b)\n",
    "    elif operation==4:\n",
    "        print(\"You chose Division -\",a/b)\n",
    "    elif operation==5:\n",
    "        print(\"You chose Floor Division -\",a//b)\n",
    "    elif operation==6:\n",
    "        print(\"You chose Modulus -\",a%b)\n",
    "    else:\n",
    "        print(\"INVALID OPERATION\")\n",
    "arithmetic_operations()"
   ]
  },
  {
   "cell_type": "markdown",
   "metadata": {},
   "source": [
    "#### Q3. To compute the roots of a quadratic equation."
   ]
  },
  {
   "cell_type": "code",
   "execution_count": 7,
   "metadata": {},
   "outputs": [
    {
     "name": "stdout",
     "output_type": "stream",
     "text": [
      "Enter the coeffcient of x^2 :\t1\n",
      "Enter the coeffcient of x :\t2\n",
      "Enter the value of constant term :\t1\n",
      "The roots of the given quadratic equations are  (-2+0j) and (-2+0j) .\n"
     ]
    }
   ],
   "source": [
    "import cmath\n",
    "def rootsofquad():\n",
    "    a=int(input(\"Enter the coeffcient of x^2 :\\t\"))\n",
    "    b=int(input(\"Enter the coeffcient of x :\\t\"))\n",
    "    c=int(input(\"Enter the value of constant term :\\t\"))\n",
    "    d=b*b-4*a*c\n",
    "    root1=(-b+cmath.sqrt(d)/2*a)\n",
    "    root2=(-b-cmath.sqrt(d)/2*a)\n",
    "    print('The roots of the given quadratic equations are ', root1,'and',root2,'.')\n",
    "rootsofquad()"
   ]
  },
  {
   "cell_type": "markdown",
   "metadata": {},
   "source": [
    "#### Q4.Write a menu driven Program to reverse the entered numbers and print the sum of digits entered."
   ]
  },
  {
   "cell_type": "code",
   "execution_count": 15,
   "metadata": {},
   "outputs": [
    {
     "name": "stdout",
     "output_type": "stream",
     "text": [
      "Enter a number with more than 2 digits :\t112\n",
      " 1- Reverse the digits \n",
      " 2- Sum of the digits entered \n",
      "Choose an operation you want to perform :\t1\n",
      "The reverse of the entered number is 211\n"
     ]
    }
   ],
   "source": [
    "a=int(input(\"Enter a number with more than 2 digits :\\t\"))\n",
    "print(\" 1- Reverse the digits \\n 2- Sum of the digits entered \")\n",
    "b=int(input(\"Choose an operation you want to perform :\\t\"))\n",
    "if b==1:\n",
    "    rev=0\n",
    "    while(a>0):\n",
    "        d=a%10\n",
    "        rev=rev*10+d\n",
    "        a=a//10\n",
    "    print(\"The reverse of the entered number is\",rev)\n",
    "elif b==2:\n",
    "    sum=0\n",
    "    while(a>0):\n",
    "        d=a%10\n",
    "        sum=sum+d\n",
    "        a=a//10\n",
    "    print(\"The sum of the digits is\", sum)\n",
    "else:\n",
    "    print(\"INVALID, Please check the number you have entered.\")"
   ]
  },
  {
   "cell_type": "markdown",
   "metadata": {},
   "source": [
    "#### Q5.Write a menu driven Program to enter the number and print whether the number is a) odd or even  b)prime"
   ]
  },
  {
   "cell_type": "code",
   "execution_count": 12,
   "metadata": {},
   "outputs": [
    {
     "name": "stdout",
     "output_type": "stream",
     "text": [
      "Enter a number :\t1\n",
      " 1) Odd or Even \n",
      " 2) Prime\n",
      "Choose an operation you want to perform :\t2\n",
      "The number is not prime.\n"
     ]
    }
   ],
   "source": [
    "n=int(input(\"Enter a number :\\t\"))\n",
    "print(\" 1) Odd or Even \\n 2) Prime\")\n",
    "c=int(input(\"Choose an operation you want to perform :\\t\"))\n",
    "if c==1:\n",
    "    r=n%2\n",
    "    if r==0:\n",
    "        print(\"EVEN\")\n",
    "    else:\n",
    "        print(\"ODD\")\n",
    "elif c==2:\n",
    "    if n==2:\n",
    "        print(\"The number is prime.\")\n",
    "    elif n>1:\n",
    "        for i in range(2,n):\n",
    "            if n%i==0:\n",
    "                print(\"The numbers is not Prime.\")\n",
    "                break\n",
    "            else:\n",
    "                print(\"The number is prime\")\n",
    "                break\n",
    "    else:\n",
    "        print(\"The number is not prime.\")\n",
    "else:\n",
    "    print(\"Invalid\")"
   ]
  },
  {
   "cell_type": "markdown",
   "metadata": {},
   "source": [
    "#### Q6. Program to find maximum out of entered 3 numbers."
   ]
  },
  {
   "cell_type": "code",
   "execution_count": 14,
   "metadata": {},
   "outputs": [
    {
     "name": "stdout",
     "output_type": "stream",
     "text": [
      "Enter first number :\t22\n",
      "Enter second number :\t35\n",
      "Enter third number :\t6\n",
      "The maximum number is, 35\n"
     ]
    }
   ],
   "source": [
    "a=int(input(\"Enter first number :\\t\"))\n",
    "b=int(input(\"Enter second number :\\t\"))\n",
    "c=int(input(\"Enter third number :\\t\"))\n",
    "if a>b and a>c:\n",
    "    print(\"The maximum number is,\", a)\n",
    "elif b>a and b>c:\n",
    "    print(\"The maximum number is,\", b)\n",
    "else:\n",
    "    print(\"The maximum out of entered 3 numbers is,\", c)"
   ]
  },
  {
   "cell_type": "markdown",
   "metadata": {},
   "source": [
    "#### Q7. Write a program to display ASCII code of a character and vice versa."
   ]
  },
  {
   "cell_type": "code",
   "execution_count": 1,
   "metadata": {},
   "outputs": [
    {
     "name": "stdout",
     "output_type": "stream",
     "text": [
      "Enter a character :\ty\n",
      "121\n",
      "Enter an ASCII value :\t 121\n",
      "y\n"
     ]
    }
   ],
   "source": [
    "x=input(\"Enter a character :\\t\")\n",
    "print(ord(x))\n",
    "y=int(input(\"Enter an ASCII value :\\t \"))\n",
    "print(chr(y))"
   ]
  },
  {
   "cell_type": "markdown",
   "metadata": {},
   "source": [
    "#### Q8.Write a Program to check if the entered number is Armstrong or not."
   ]
  },
  {
   "cell_type": "code",
   "execution_count": 3,
   "metadata": {},
   "outputs": [
    {
     "name": "stdout",
     "output_type": "stream",
     "text": [
      "Enter a number :\t153\n",
      "The entered numer is an Armstrong number.\n"
     ]
    }
   ],
   "source": [
    "n=int(input(\"Enter a number :\\t\"))\n",
    "o=len(str(n))\n",
    "s=0\n",
    "x=n\n",
    "while x>0:\n",
    "    d=x%10\n",
    "    s+=d**o\n",
    "    x//=10\n",
    "if n==s:\n",
    "    print(\"The entered numer is an Armstrong number.\")\n",
    "else:\n",
    "    print(\"The entered number is not an Armstrong number.\")"
   ]
  },
  {
   "cell_type": "markdown",
   "metadata": {},
   "source": [
    "#### Q9. Write a Program to find factorial of the entered number using recursion."
   ]
  },
  {
   "cell_type": "code",
   "execution_count": 5,
   "metadata": {},
   "outputs": [
    {
     "name": "stdout",
     "output_type": "stream",
     "text": [
      "Enter a number :\t5\n",
      "The factorial of 5 is 120 .\n"
     ]
    }
   ],
   "source": [
    "def fact(n):\n",
    "    if(n==0 or n==1):\n",
    "        return 1\n",
    "    else:\n",
    "        return n*fact(n-1)\n",
    "n=int(input(\"Enter a number :\\t\"))\n",
    "print(\"The factorial of\",n,\"is\",fact(n),'.')"
   ]
  },
  {
   "cell_type": "markdown",
   "metadata": {},
   "source": [
    "#### Q10. Write a Program to enter the number of terms and to print the Fibonacci Series."
   ]
  },
  {
   "cell_type": "code",
   "execution_count": 6,
   "metadata": {},
   "outputs": [
    {
     "name": "stdout",
     "output_type": "stream",
     "text": [
      "Enter a number:\t5\n",
      "The required fibonacci series is 3\n"
     ]
    }
   ],
   "source": [
    "def fibonacci(n):\n",
    "    if n<=0:\n",
    "        print(\"Enter a value greater than 0\")\n",
    "    elif(n==1):\n",
    "        return 0\n",
    "    elif(n==2):\n",
    "        return 1\n",
    "    else:\n",
    "        return fibonacci(n-1)+fibonacci(n-2)\n",
    "n=int(input(\"Enter a number:\\t\"))\n",
    "print(\"The required fibonacci series is\",fibonacci(n))"
   ]
  },
  {
   "cell_type": "markdown",
   "metadata": {},
   "source": [
    "#### Q11.Write a Program to enter the numbers and to print greatest number using loop."
   ]
  },
  {
   "cell_type": "code",
   "execution_count": 4,
   "metadata": {},
   "outputs": [
    {
     "name": "stdout",
     "output_type": "stream",
     "text": [
      "Enter the total no. of elements:\t3\n",
      "                 Enter a number:\t2\n",
      "      Enter another element:\t4\n",
      "      Enter another element:\t6\n",
      "The largest no. is 6\n"
     ]
    }
   ],
   "source": [
    "tot=int(input(\"Enter the total no. of elements:\\t\"))\n",
    "n=int(input(\"                 Enter a number:\\t\"))\n",
    "largest=n\n",
    "for i in range(1,tot):\n",
    "    n1=int(input(\"      Enter another element:\\t\"))\n",
    "    if(n1>largest):\n",
    "        largest=n1\n",
    "print(\"The largest no. is\",largest)"
   ]
  },
  {
   "cell_type": "markdown",
   "metadata": {},
   "source": [
    "#### Q12. Write a Program to enter the string and to check if it’s palindrome or not using loop."
   ]
  },
  {
   "cell_type": "code",
   "execution_count": 3,
   "metadata": {},
   "outputs": [
    {
     "name": "stdout",
     "output_type": "stream",
     "text": [
      "Enter a string:\tABDAB\n",
      "The reverse of this string is BADBA\n",
      "No, ABDAB is not a palindrome string.\n"
     ]
    }
   ],
   "source": [
    "string=str(input(\"Enter a string:\\t\"))\n",
    "str1=\"\"\n",
    "for i in string:\n",
    "  str1=i+str1\n",
    "print(\"The reverse of this string is\",str1)\n",
    "if(str1==string):\n",
    "  print(\"Yes,\", string,\"is a palindrome string.\")\n",
    "else:\n",
    "  print(\"No,\", string,\"is not a palindrome string.\")"
   ]
  },
  {
   "cell_type": "markdown",
   "metadata": {},
   "source": [
    "#### Q13. Write a Program to enter the 5 subjects numbers and print the grades A/B/C/D/E."
   ]
  },
  {
   "cell_type": "code",
   "execution_count": 5,
   "metadata": {},
   "outputs": [
    {
     "name": "stdout",
     "output_type": "stream",
     "text": [
      "Enter marks scored in Queueing Theory:\t60.7\n",
      "Enter marks scored in Python programming:\t71.5\n",
      "Enter marks scored in LPP and extension:\t83\n",
      "Enter marks scored in Inventory Management:\t78\n",
      "Enter marks scored in Statistics:\t67\n",
      "The grade secured by you is C.\n"
     ]
    }
   ],
   "source": [
    "a=float(input(\"Enter marks scored in Queueing Theory:\\t\"))\n",
    "b=float(input(\"Enter marks scored in Python programming:\\t\"))\n",
    "c=float(input(\"Enter marks scored in LPP and extension:\\t\"))\n",
    "d=float(input(\"Enter marks scored in Inventory Management:\\t\"))\n",
    "e=float(input(\"Enter marks scored in Statistics:\\t\"))\n",
    "avg=((a+b+c+d+e)/5)\n",
    "if avg>=90:\n",
    "    print(\"The grade secured by you is A.\")\n",
    "elif 80<=avg<90:\n",
    "    print(\"The grade secured by you is B.\")\n",
    "elif 70<=avg<80:\n",
    "    print(\"The grade secured by you is C.\")\n",
    "elif 60<=avg<70:\n",
    "    print(\"The grade secured by you is D.\")\n",
    "elif 33<=avg<60:\n",
    "    print(\"The grade secured by you is E.\")\n",
    "else:\n",
    "    print(\"Grade F: Please work harder.\")"
   ]
  },
  {
   "cell_type": "markdown",
   "metadata": {},
   "source": [
    "#### Q14. Write a program in python language to display the given pattern:"
   ]
  },
  {
   "cell_type": "code",
   "execution_count": 10,
   "metadata": {},
   "outputs": [
    {
     "name": "stdout",
     "output_type": "stream",
     "text": [
      "        5 \n",
      "      4 5 \n",
      "    3 4 5 \n",
      "  2 3 4 5 \n",
      "1 2 3 4 5 \n"
     ]
    }
   ],
   "source": [
    "n=5  #number of rows\n",
    "for i in range(n): #i represents rows \n",
    "    for j in range(n-i-1):  #j represents columns and (n-i-1) here is showing the place of the column\n",
    "        print(\" \",end=\" \")\n",
    "    for j in range(i,-1,-1): \n",
    "        print(n-j,end=\" \")\n",
    "    print()"
   ]
  },
  {
   "cell_type": "markdown",
   "metadata": {},
   "source": [
    "#### Q15. Write a python function sin(x,n) to calculate the value of sin(x) using its Taylor series expansion up to n terms."
   ]
  },
  {
   "cell_type": "code",
   "execution_count": 21,
   "metadata": {},
   "outputs": [
    {
     "name": "stdout",
     "output_type": "stream",
     "text": [
      "Enter the number of terms: 4\n",
      "Enter the value of x: 2\n",
      "sin( 2 , 4 ) = 0.6666666666666667\n"
     ]
    }
   ],
   "source": [
    "import math\n",
    "n=int(input(\"Enter the number of terms: \"))\n",
    "x=int(input(\"Enter the value of x: \"))\n",
    "sin=0\n",
    "for i in range(1,n+1,4):\n",
    "    sin = sin + (x**i)/(math.factorial(i))\n",
    "for i in range(3,n+1,4):\n",
    "    sin = sin - (x**i)/(math.factorial(i))\n",
    "print('sin(',x,',',n,')','=',sin)"
   ]
  },
  {
   "cell_type": "markdown",
   "metadata": {},
   "source": [
    "#### Q16. Write a Program to determine EOQ using various inventory models."
   ]
  },
  {
   "cell_type": "code",
   "execution_count": 1,
   "metadata": {},
   "outputs": [
    {
     "name": "stdout",
     "output_type": "stream",
     "text": [
      "\n",
      "l = Annual Demand\n",
      "c = Unit cost per unit\n",
      "A = Set up cost per setup\n",
      "HC= Carrying cost per unit per time\n",
      "Pi= Shortage cost per unit per time\n",
      "Psi= Units Produced\n",
      "EOQ MODEL\n",
      "Enter the annual demand:\t 100\n",
      "Enter the unit cost:\t2\n",
      "Enter the setup cost:\t30\n",
      "Enter the holding cost:\t 4\n",
      "Economic order quantity according to Wilson Formula is 27.386127875258307\n",
      "The cost corresponding to the value of Q obtained by Wilson Formula is 219.08902300206645\n",
      "EOQ MODEL WITH PRODUCTION (ECONOMIC PRODUCTION QUANTITY)\n",
      "Enter the units produced : 100\n",
      "Economic order quantity according to EPQ model is 27.423720381458814\n",
      "The cost corresponding to the value of Q obtained according to EPQ model is 218.7886952076933\n",
      "\n",
      "EOQ MODEL WITH SHORTAGES\n",
      "Enter the shortage cost : 3\n",
      "EOQ according to model with shortages is 52.44044240850758\n",
      "Maximum shortage in the model with shortges is 38.13850356982369\n",
      "The cost corresponding to the value of Q obtained according to the model of shortages is 114.41551070947108\n",
      "EOQ MODEL WITH FINITE PRODUCTION RATE AND SHORTAGES\n",
      "EOQ according to the model with finite production rate and shortages is 52.51242657747731\n",
      "The cost corresponding to the value of Q obtained in EOQ model with finite production rate and shortages is 114.25866963408262\n"
     ]
    }
   ],
   "source": [
    "print(\"\"\"\n",
    "l = Annual Demand\n",
    "c = Unit cost per unit\n",
    "A = Set up cost per setup\n",
    "HC= Carrying cost per unit per time\n",
    "Pi= Shortage cost per unit per time\n",
    "Psi= Units Produced\"\"\")\n",
    "\n",
    "print(\"EOQ MODEL\")\n",
    "l=float(input(\"Enter the annual demand:\\t \"))\n",
    "c=float(input(\"Enter the unit cost:\\t\"))\n",
    "A=float(input(\"Enter the setup cost:\\t\"))\n",
    "I=float(input(\"Enter the holding cost:\\t \"))\n",
    "HC = I*c\n",
    "\n",
    "Q1 = (2*A*l/HC)**0.5\n",
    "print(\"Economic order quantity according to Wilson Formula is\", Q1)\n",
    "min_cost1 = (2*A*l*HC)**0.5\n",
    "print(\"The cost corresponding to the value of Q obtained by Wilson Formula is\",min_cost1)\n",
    "\n",
    "print(\"EOQ MODEL WITH PRODUCTION (ECONOMIC PRODUCTION QUANTITY)\")\n",
    "Psi=float(input(\"Enter the units produced : \"))\n",
    "d=l/365\n",
    "Q2 = ((2*A*l*Psi)/(HC*(Psi-d)))**0.5\n",
    "print(\"Economic order quantity according to EPQ model is\",Q2)\n",
    "min_cost2 = ((2*A*l*HC*(Psi-d))/Psi)**0.5\n",
    "print(\"The cost corresponding to the value of Q obtained according to EPQ model is\",min_cost2)\n",
    "\n",
    "print(\"\\nEOQ MODEL WITH SHORTAGES\")\n",
    "Pi=float(input(\"Enter the shortage cost : \"))\n",
    "Q3 = ((2*A*l*(HC+Pi))/(Pi*HC))**0.5\n",
    "print(\"EOQ according to model with shortages is\", Q3)\n",
    "S = ((2*A*l*HC)/(Pi*(Pi+HC)))**0.5\n",
    "print(\"Maximum shortage in the model with shortges is\" , S)\n",
    "min_cost3 = ((2*A*l*HC*Pi)/(HC+Pi))**0.5\n",
    "print(\"The cost corresponding to the value of Q obtained according to the model of shortages is\", min_cost3)\n",
    "\n",
    "print(\"EOQ MODEL WITH FINITE PRODUCTION RATE AND SHORTAGES\")\n",
    "Q4 = ((2*A*l*Psi*(HC+Pi))/(HC*Pi*(Psi-d)))**0.5\n",
    "print(\"EOQ according to the model with finite production rate and shortages is\",Q4)\n",
    "min_cost4 = ((2*A*l*HC*Pi*(Psi-d))/(Psi*(HC+Pi)))**0.5\n",
    "print(\"The cost corresponding to the value of Q obtained in EOQ model with finite production rate and shortages is\",min_cost4)"
   ]
  },
  {
   "cell_type": "markdown",
   "metadata": {},
   "source": [
    "#### Q17. Write a Program to determine different characteristics using various Queuing models."
   ]
  },
  {
   "cell_type": "code",
   "execution_count": 2,
   "metadata": {},
   "outputs": [
    {
     "name": "stdout",
     "output_type": "stream",
     "text": [
      " NOTATIONS\n",
      "l = Arrival rate\n",
      "mu = Service rate\n",
      "c = Number of servers in the system\n",
      "n = Number of customers in the system\n",
      "Pn = Probability of n customers in the system\n",
      "Lq = Expected number of customers in the queue\n",
      "L = Expected number of customers in the system\n",
      "Wq = Expected time spent in the queue\n",
      "W = Expected time spent in the system\n",
      "rho = Traffic intensity \n",
      "M/M/C system\n",
      "Enter the arrival rate : 2\n",
      "Enter the service rate : 3\n",
      "Enter the number of servers : 4\n",
      "Traffic intensity is 0.16666666666666666\n",
      "The system can reach a steady state with the following performance measures.\n",
      "Calculation of P0\n",
      "1.9382716049382716\n",
      "0.009876543209876541\n",
      "Value of P0 is 0.5133079847908745\n",
      "Calculation of Pn\n",
      "Enter the value of n : 4\n",
      "Probability of 4 customers in the system is 0.004224757076468103\n",
      "MEASURES OF PERFORMANCE:\n",
      "Expected number of customers in the queue are:\t 0.0010139416983523442\n",
      "Expected number of customers in the system are:\t 0.667680608365019\n",
      "Expected time spent in the queue is:\t 0.0005069708491761721\n",
      "Expected time spent in the system is:\t 0.3338403041825095\n"
     ]
    }
   ],
   "source": [
    "import math\n",
    "print(\"\"\" NOTATIONS\n",
    "l = Arrival rate\n",
    "mu = Service rate\n",
    "c = Number of servers in the system\n",
    "n = Number of customers in the system\n",
    "Pn = Probability of n customers in the system\n",
    "Lq = Expected number of customers in the queue\n",
    "L = Expected number of customers in the system\n",
    "Wq = Expected time spent in the queue\n",
    "W = Expected time spent in the system\n",
    "rho = Traffic intensity \"\"\")\n",
    "\n",
    "print(\"M/M/C system\")\n",
    "\n",
    "l = float(input(\"Enter the arrival rate : \"))\n",
    "mu = float(input(\"Enter the service rate : \"))\n",
    "c = int(input(\"Enter the number of servers : \"))\n",
    "rho = l/(mu*c)\n",
    "r = l/mu\n",
    "\n",
    "print(\"Traffic intensity is\", rho)\n",
    "if(rho>=1):\n",
    "    print(\"The system can never reach a steady state\")\n",
    "else:\n",
    "    print(\"The system can reach a steady state with the following performance measures.\")\n",
    "t = 0\n",
    "\n",
    "print(\"Calculation of P0\")\n",
    "for i in range(0,c):\n",
    "    t = t + ((r**i)/(math.factorial(i)))\n",
    "print(t)\n",
    "s = ((r**c)/((math.factorial(c))*(1-rho)))\n",
    "print(s)\n",
    "P0 = (s+t)**(-1)\n",
    "\n",
    "print( \"Value of P0 is\", P0)\n",
    "print(\"Calculation of Pn\")\n",
    "n=int(input(\"Enter the value of n : \"))\n",
    "if(n>=0 and n<c):\n",
    "    Pn = ((l**n)/((math.factorial(n))*(mu**n)))*P0\n",
    "elif(n>=c):\n",
    "    Pn = ((l**n)/((math.factorial(c))*(mu**n)*(c**(n-c))))*P0\n",
    "else:\n",
    "    print(\"Invalid\")\n",
    "print(\"Probability of\",n,\"customers in the system is\", Pn)\n",
    "\n",
    "print(\"MEASURES OF PERFORMANCE:\")\n",
    "\n",
    "Lq = (((r**c)*rho)/((math.factorial(c))*((1-rho)**2)))*P0\n",
    "print(\"Expected number of customers in the queue are:\\t\", Lq)\n",
    "L = r + Lq\n",
    "print(\"Expected number of customers in the system are:\\t\", L)\n",
    "Wq = Lq/l\n",
    "print(\"Expected time spent in the queue is:\\t\", Wq)\n",
    "W = Wq + ((1/mu))\n",
    "print(\"Expected time spent in the system is:\\t\",W)"
   ]
  },
  {
   "cell_type": "markdown",
   "metadata": {},
   "source": [
    "#### Q18.Write a Program to implement Inheritance. Create a class Employee inherit two classes Manager and Clerk from Employee."
   ]
  },
  {
   "cell_type": "code",
   "execution_count": 17,
   "metadata": {},
   "outputs": [
    {
     "name": "stdout",
     "output_type": "stream",
     "text": [
      "           NAME:\t Medni Aswal\n",
      "EMPLOYEE NUMBER:\t 190699\n",
      "            AGE:\t 21\n",
      "         SALARY:\t 78000\n",
      "     DEPARTMENT:\t HR\n",
      "           NAME:\t Nandini Rana\n",
      "EMPLOYEE NUMBER:\t 150120\n",
      "            AGE:\t 20\n",
      "         SALARY:\t 8900\n",
      "     DEPARTMENT:\t Cyber\n"
     ]
    }
   ],
   "source": [
    "class Employee:\n",
    "    def __init__(self,name,emp_no):\n",
    "        self.name=name\n",
    "        self.emp_no=emp_no\n",
    "    def display(self):\n",
    "        print(\"           NAME:\\t\",self.name)\n",
    "        print(\"EMPLOYEE NUMBER:\\t\",self.emp_no)\n",
    "class Manager(Employee):\n",
    "    def __init__(self,name,emp_no,age,salary,deptt):\n",
    "          Employee.__init__(self,name,emp_no)\n",
    "          self.age=age\n",
    "          self.salary=salary\n",
    "          self.deptt=deptt\n",
    "    def displayData(self):\n",
    "        Employee.display(self)\n",
    "        print(\"            AGE:\\t\",self.age)\n",
    "        print(\"         SALARY:\\t\",self.salary)\n",
    "        print(\"     DEPARTMENT:\\t\",self.deptt)\n",
    "class Clerk(Employee):\n",
    "    def __init__(self,name,emp_no,age,salary,deptt):\n",
    "          Employee.__init__(self,name,emp_no)\n",
    "          self.age=age\n",
    "          self.salary=salary\n",
    "          self.deptt=deptt\n",
    "    def displayData(self):\n",
    "        Employee.display(self)\n",
    "        print(\"            AGE:\\t\",self.age)\n",
    "        print(\"         SALARY:\\t\",self.salary)\n",
    "        print(\"     DEPARTMENT:\\t\",self.deptt)\n",
    "M=Manager(\"Medni Aswal\",190699,21,78000,\"HR\")\n",
    "M.displayData()\n",
    "C=Clerk(\"Nandini Rana\",150120,20,8900,\"Cyber\")\n",
    "C.displayData()"
   ]
  },
  {
   "cell_type": "markdown",
   "metadata": {},
   "source": [
    "#### Q 19.Program to fit Poisson distribution on a given data."
   ]
  },
  {
   "cell_type": "code",
   "execution_count": 11,
   "metadata": {},
   "outputs": [
    {
     "data": {
      "image/png": "[encoded data removed]",
      "text/plain": [
       "<Figure size 432x288 with 1 Axes>"
      ]
     },
     "metadata": {
      "needs_background": "light"
     },
     "output_type": "display_data"
    }
   ],
   "source": [
    "import numpy as np\n",
    "import matplotlib.pyplot as plt \n",
    "sn = np.random.poisson(5,1000)   #np.random.poisson(lam=1.0, size=None)\n",
    "plt.hist(sn,10, density= True)\n",
    "plt.title(\"Probability density function of Poisson distribution\")\n",
    "plt.ylabel(\"Probability\")\n",
    "plt.xlabel(\"Number of events\")\n",
    "plt.show()"
   ]
  },
  {
   "cell_type": "markdown",
   "metadata": {},
   "source": [
    "#### 20.Write a program to implement linear regression using python."
   ]
  },
  {
   "cell_type": "code",
   "execution_count": 33,
   "metadata": {},
   "outputs": [
    {
     "data": {
      "image/png": "[encoded data removed]",
      "text/plain": [
       "<Figure size 432x288 with 1 Axes>"
      ]
     },
     "metadata": {
      "needs_background": "light"
     },
     "output_type": "display_data"
    },
    {
     "name": "stdout",
     "output_type": "stream",
     "text": [
      "slope of the line is 0.46321525885558584\n",
      "intercept of the line is 40.95912806539509\n"
     ]
    },
    {
     "data": {
      "image/png": "[encoded data removed]",
      "text/plain": [
       "<Figure size 432x288 with 1 Axes>"
      ]
     },
     "metadata": {
      "needs_background": "light"
     },
     "output_type": "display_data"
    },
    {
     "name": "stdout",
     "output_type": "stream",
     "text": [
      "Predicted values are : [70.60490463 71.53133515 72.45776567 74.3106267  75.70027248 71.06811989\n",
      " 76.626703   75.70027248]\n"
     ]
    }
   ],
   "source": [
    "import numpy as np\n",
    "import matplotlib.pyplot as plt\n",
    "#line of the form y =mx+b\n",
    "def draw_line(x,y,b,m):\n",
    "    plt.scatter(x, y, color = \"m\", marker = \"o\")\n",
    "    y_pred = b + m*x\n",
    "    plt.plot(x,y_pred, color = 'g')\n",
    "    plt.xlabel('x')\n",
    "    plt.ylabel('y')\n",
    "    plt.show()\n",
    "def predict(x):\n",
    "    y_pred = b + m*x\n",
    "    print(\"Predicted values are :\",y_pred)\n",
    "x = np.array([64,66,68,72,75,65,77,75])\n",
    "y = np.array([69,70,71,72,75,76,77,78])\n",
    "plt.scatter(x,y)\n",
    "plt.show()    \n",
    "n = len(x)\n",
    "mean_x = np.mean(x)\n",
    "mean_y = np.mean(y)\n",
    "dev_xy = np.sum(y*x) - n*mean_x*mean_y\n",
    "dev_xx = np.sum(x*x) - n*mean_x*mean_x\n",
    "m = dev_xy/dev_xx\n",
    "print(\"slope of the line is {}\".format(m))\n",
    "b = mean_y - m*mean_x\n",
    "print(\"intercept of the line is {}\".format(b))\n",
    "draw_line(x,y,b,m)\n",
    "predict(x)"
   ]
  },
  {
   "cell_type": "markdown",
   "metadata": {},
   "source": [
    "#### Q21. Write a program to perform read and write operation with .csv file."
   ]
  },
  {
   "cell_type": "code",
   "execution_count": 7,
   "metadata": {},
   "outputs": [
    {
     "name": "stdout",
     "output_type": "stream",
     "text": [
      "['CustomerId', 'Surname', 'CreditScore', 'Geography', 'Gender', 'Age', 'Tenure', 'Balance', 'NumOfProducts', 'HasCrCard', 'IsActiveMember', 'EstimatedSalary', 'Exited', 'Internet Service']\n",
      "['15634602', 'Hargrave', '619', 'France', 'Female', '42', '2', '0', '1', '1', '1', '101348.88', '1', 'Fiber optic']\n",
      "['15647311', 'Hill', '608', 'Spain', 'Female', '41', '1', '83807.86', '1', '0', '1', '112542.58', '0', 'DSL']\n",
      "['15619304', 'Onio', '502', 'France', 'Female', '42', '8', '159660.8', '3', '1', '0', '113931.57', '1', 'Fiber optic']\n",
      "['15701354', 'Boni', '699', 'France', 'Female', '39', '1', '0', '2', '0', '0', '93826.63', '0', 'DSL']\n",
      "['15737888', 'Mitchell', '850', 'Spain', 'Female', '43', '2', '125510.82', '1', '1', '1', '79084.1', '0', 'Fiber optic']\n",
      "['15574012', 'Chu', '645', 'Spain', 'Male', '44', '8', '113755.78', '2', '1', '0', '149756.71', '1', 'DSL']\n",
      "['15592531', 'Bartlett', '822', 'France', 'Male', '54', '7', '0', '2', '1', '1', '10062.8', '0', 'DSL']\n",
      "['15656148', 'Obinna', '376', 'Germany', 'Female', '29', '4', '115046.74', '4', '1', '0', '119346.88', '1', 'Fiber optic']\n",
      "['15792365', 'He', '501', 'France', 'Male', '44', '4', '142051.07', '2', '0', '1', '74940.5', '0', 'DSL']\n",
      "['15592389', 'H?', '684', 'France', 'Male', '27', '2', '134603.88', '1', '1', '1', '71725.73', '0', 'No']\n",
      "['15767821', 'Bearce', '528', 'France', 'Male', '31', '5', '102016.72', '2', '0', '0', '80181.12', '0', 'No']\n",
      "['15737173', 'Andrews', '497', 'Spain', 'Male', '24', '3', '0', '2', '1', '0', '76390.01', '0', 'No']\n",
      "['15632264', 'Kay', '476', 'France', 'Female', '34', '10', '0', '2', '1', '0', '26260.98', '0', 'Fiber optic']\n",
      "['15691483', 'Chin', '549', 'France', 'Female', '55', '5', '0', '2', '0', '0', '190857.79', '0', 'No']\n"
     ]
    }
   ],
   "source": [
    "import csv\n",
    "#READING A CSV FILE \n",
    "with open(\"/Users/Medni/Downloads/customerdata.csv\",\"r\") as csv_file:\n",
    "    csv_reader=csv.reader(csv_file)\n",
    "    for line in csv_reader:\n",
    "        print(line)\n",
    "#WRITING IN A CSV FILE \n",
    "with open(\"/Users/Medni/Downloads/customerdata.csv\",\"r\") as csv_file:\n",
    "    csv_reader=csv.reader(csv_file)\n",
    "    with open(\"/Users/Medni/Desktop/newcustomerdata.csv\",\"w\")as new_file:\n",
    "        csv_writer=csv.writer(new_file,delimiter=\"@\")\n",
    "        for line in csv_reader:\n",
    "            csv_writer.writerow(line)"
   ]
  },
  {
   "cell_type": "markdown",
   "metadata": {},
   "source": [
    "#### Q22.Write a Program to enter multiple values-based data in multiple columns/rows and show that data in python using DataFrames and pandas."
   ]
  },
  {
   "cell_type": "code",
   "execution_count": 14,
   "metadata": {},
   "outputs": [
    {
     "name": "stdout",
     "output_type": "stream",
     "text": [
      "   Names  Age\n",
      "0  Medni   45\n",
      "1  Nandi   56\n",
      "2   Kanu   87\n",
      "3   Sonu   65\n"
     ]
    }
   ],
   "source": [
    "import pandas as pd \n",
    "\n",
    "data = {'Names' :['Medni','Nandi','Kanu','Sonu'],\n",
    "       'Age':[45,56,87,65]}\n",
    "\n",
    "#Dataframe\n",
    "info= pd.DataFrame(data)\n",
    "\n",
    "#print \n",
    "print(info)"
   ]
  },
  {
   "cell_type": "markdown",
   "metadata": {},
   "source": [
    "#### Q 23.WAP in python to perform various statistical measures using pandas."
   ]
  },
  {
   "cell_type": "code",
   "execution_count": 24,
   "metadata": {},
   "outputs": [
    {
     "name": "stdout",
     "output_type": "stream",
     "text": [
      "        Name  Age  Salary          Occupation\n",
      "0      Medni   21   59990          Operations\n",
      "1    Nandini   20   60005        Cyber crime \n",
      "2     Yashna   25   55643  Fianancial analyst\n",
      "3       Esha   23   89222             Teacher\n",
      "4  Kanupriya   24   77789              Lawyer\n",
      "             Age       Salary\n",
      "count   5.000000      5.00000\n",
      "mean   22.600000  68529.80000\n",
      "std     2.073644  14366.36644\n",
      "min    20.000000  55643.00000\n",
      "25%    21.000000  59990.00000\n",
      "50%    23.000000  60005.00000\n",
      "75%    24.000000  77789.00000\n",
      "max    25.000000  89222.00000\n"
     ]
    }
   ],
   "source": [
    "import pandas as pd\n",
    "data={'Name':[\"Medni\",\"Nandini\",\"Yashna\",\"Esha\",\"Kanupriya\"],\n",
    "      'Age':[21,20,25,23,24],'Salary':[59990,60005,55643,89222,77789],\n",
    "      'Occupation':[\"Operations\",\"Cyber crime \",\"Fianancial analyst\",\"Teacher\",\"Lawyer\"]}\n",
    "df=pd.DataFrame(data)\n",
    "print(df)\n",
    "print(df.describe())"
   ]
  },
  {
   "cell_type": "markdown",
   "metadata": {},
   "source": [
    "#### Q24.Write a program to plot a bar chart in python to display the result of a school for five consecutive years."
   ]
  },
  {
   "cell_type": "code",
   "execution_count": 14,
   "metadata": {},
   "outputs": [
    {
     "data": {
      "image/png": "[encoded data removed]",
      "text/plain": [
       "<Figure size 432x288 with 1 Axes>"
      ]
     },
     "metadata": {
      "needs_background": "light"
     },
     "output_type": "display_data"
    }
   ],
   "source": [
    "import matplotlib.pyplot as plt\n",
    "Result_in_percentage=[89,96,60,70,84]\n",
    "Year=['2015','2016','2017','2018','2019']\n",
    "plt.bar(Year,Result_in_percentage,color='purple')\n",
    "plt.xlabel(\"Year\")\n",
    "plt.ylabel(\"Marks\")\n",
    "plt.title(\"Marks of students in successive five years\")\n",
    "plt.show()"
   ]
  },
  {
   "cell_type": "markdown",
   "metadata": {},
   "source": [
    "#### Q25.Write a program in python to plot a graph for the function y = x^2."
   ]
  },
  {
   "cell_type": "code",
   "execution_count": 40,
   "metadata": {},
   "outputs": [
    {
     "data": {
      "image/png": "[encoded data removed]",
      "text/plain": [
       "<Figure size 432x288 with 1 Axes>"
      ]
     },
     "metadata": {
      "needs_background": "light"
     },
     "output_type": "display_data"
    }
   ],
   "source": [
    "import matplotlib.pyplot as plt\n",
    "import numpy as np\n",
    "x=np.arange(-6,7)\n",
    "y=np.square(x)\n",
    "plt.xlabel('x-label')\n",
    "plt.ylabel('y-label')\n",
    "plt.plot(x,y)\n",
    "plt.title(\"GRAPH FOR FUNCTION:\\n Y=(X)^2\")\n",
    "plt.show()"
   ]
  },
  {
   "cell_type": "markdown",
   "metadata": {},
   "source": [
    "#### Q26.Write a program in python to plot a pie chart on consumption of water in daily life."
   ]
  },
  {
   "cell_type": "code",
   "execution_count": 13,
   "metadata": {
    "scrolled": true
   },
   "outputs": [
    {
     "data": {
      "image/png": "[encoded data removed]",
      "text/plain": [
       "<Figure size 432x288 with 1 Axes>"
      ]
     },
     "metadata": {},
     "output_type": "display_data"
    }
   ],
   "source": [
    "from matplotlib import pyplot as plt\n",
    "days=['Sunday','Monday','Tuesday','Thursday','Friday','Saturday']\n",
    "consumption_in_litre = [45,10,20,19,12,40]\n",
    "color=[\"red\",\"lightblue\",\"yellow\",\"lightgreen\",\"pink\",\"orange\"]\n",
    "plt.pie(consumption_in_litre,labels=days,colors=color,autopct='%.2f')\n",
    "plt.show()"
   ]
  }
 ],
 "metadata": {
  "kernelspec": {
   "display_name": "Python 3",
   "language": "python",
   "name": "python3"
  },
  "language_info": {
   "codemirror_mode": {
    "name": "ipython",
    "version": 3
   },
   "file_extension": ".py",
   "mimetype": "text/x-python",
   "name": "python",
   "nbconvert_exporter": "python",
   "pygments_lexer": "ipython3",
   "version": "3.8.5"
  }
 },
 "nbformat": 4,
 "nbformat_minor": 4
}
